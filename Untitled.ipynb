{
 "cells": [
  {
   "cell_type": "code",
   "execution_count": 2,
   "id": "037bdf25-272b-4b62-9a4a-90d3200de358",
   "metadata": {},
   "outputs": [
    {
     "ename": "SyntaxError",
     "evalue": "invalid syntax (2456065909.py, line 2)",
     "output_type": "error",
     "traceback": [
      "\u001b[1;36m  Cell \u001b[1;32mIn[2], line 2\u001b[1;36m\u001b[0m\n\u001b[1;33m    conda install -c conda-forge ffmpeg libsndfile\u001b[0m\n\u001b[1;37m          ^\u001b[0m\n\u001b[1;31mSyntaxError\u001b[0m\u001b[1;31m:\u001b[0m invalid syntax\n"
     ]
    }
   ],
   "source": [
    "# install dependencies using conda\n",
    "conda install -c conda-forge ffmpeg libsndfile\n",
    "# install spleeter with pip\n",
    "pip install spleeter\n",
    "# download an example audio file (if you don't have wget, use another tool for downloading)\n",
    "wget https://github.com/deezer/spleeter/raw/master/audio_example.mp3\n",
    "# separate the example audio into two components\n",
    "spleeter separate -p spleeter:2stems -o output audio_example.mp3"
   ]
  },
  {
   "cell_type": "code",
   "execution_count": null,
   "id": "fdc43809-6803-4348-bc05-4085a265e7eb",
   "metadata": {},
   "outputs": [],
   "source": []
  }
 ],
 "metadata": {
  "kernelspec": {
   "display_name": "Python 3 (ipykernel)",
   "language": "python",
   "name": "python3"
  },
  "language_info": {
   "codemirror_mode": {
    "name": "ipython",
    "version": 3
   },
   "file_extension": ".py",
   "mimetype": "text/x-python",
   "name": "python",
   "nbconvert_exporter": "python",
   "pygments_lexer": "ipython3",
   "version": "3.9.18"
  }
 },
 "nbformat": 4,
 "nbformat_minor": 5
}
